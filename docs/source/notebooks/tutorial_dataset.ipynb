{
 "cells": [
  {
   "cell_type": "markdown",
   "id": "8a113529-9cf8-4f75-a71d-91364028aa16",
   "metadata": {},
   "source": [
    "# Tutorial on the DataSet object"
   ]
  },
  {
   "cell_type": "markdown",
   "id": "6b5ef78f-df71-4247-82f8-e4ef63c4a8bb",
   "metadata": {},
   "source": [
    "## Example of how to use the COLIBRI Dataset"
   ]
  },
  {
   "cell_type": "code",
   "execution_count": 1,
   "id": "cb79e3f1-0316-4a27-89aa-2577888a7365",
   "metadata": {},
   "outputs": [],
   "source": [
    "from colibri import DataSet"
   ]
  },
  {
   "cell_type": "code",
   "execution_count": 2,
   "id": "d3c03b03-39f8-45c9-8984-497b53e97240",
   "metadata": {},
   "outputs": [],
   "source": [
    "modules = [\n",
    "    \"AcvExploitationOnly\",\n",
    "    \"CircularEconomyIndicator\",\n",
    "    \"LimitedGenerator\",\n",
    "    \"OccupantModel\",\n",
    "    \"LayerWallLosses\",\n",
    "    \"ThermalSpaceSimplified\",\n",
    "    \"WeatherModel\",\n",
    "]"
   ]
  },
  {
   "cell_type": "code",
   "execution_count": 3,
   "id": "8f334c82-f9df-431f-a578-22df32a68064",
   "metadata": {},
   "outputs": [],
   "source": [
    "datamodel = DataSet(modules=modules)"
   ]
  },
  {
   "cell_type": "markdown",
   "id": "b460711e-53b8-4a73-82db-0fa7b2e43794",
   "metadata": {},
   "source": [
    "### Documentation and information to understand COLIBRI DataSet"
   ]
  },
  {
   "cell_type": "code",
   "execution_count": 4,
   "id": "5227e096-b20b-41d6-b43f-d376c4addb77",
   "metadata": {},
   "outputs": [
    {
     "name": "stdout",
     "output_type": "stream",
     "text": [
      "[2024-09-26 08:19:31 - /mnt/d/developments/versioned/colibri/colibri/src/colibri/datamodel/dataset.py (L529) - INFO] COLIBRI dataset is composed of archetypes, modules, or project objects (structure, boundary or element objects).\n",
      "COLIBRI structure objects are:\n",
      "\n",
      "boundary: A boundary is a two-sided plane surface delimiting spaces and/or the exterior.\n",
      "A boundary can be fictive or concrete (wall, floor, roof...).\n",
      "\n",
      "boundary_condition: A boundary condition is used to impose boundary conditions (to a boundary, to a real network...).\n",
      "\n",
      "building: Building.\n",
      "\n",
      "linear_junction: A linear junction is used when boundaries are in contact on a segment and can be used for thermal bridges calculation or for the 3D structure of a project.\n",
      "\n",
      "punctual_junction: A punctual junction is used when objects are linked through an assimilated 'single point connexion'.\n",
      "Example: a pipe with an air vent.\n",
      "\n",
      "project: Project.\n",
      "\n",
      "segment: A segment describe the edge of a boundary, which is useful for representing the boundary geometrically and positioning boundaries relative to each other and/or the exterior.\n",
      "\n",
      "space: A space is a continuous volume delimited by boundaries.\n",
      "\n",
      "COLIBRI boundary objects are:\n",
      "\n",
      "Emitter: A boundary object is an object attached to a boundary.\n",
      "\n",
      "COLIBRI archetypes are:\n",
      "\n",
      "Boundary: None\n",
      "\n",
      "Layer: None\n",
      "\n",
      "Emitter: None\n",
      "\n",
      "COLIBRI modules (with parameters) are:\n",
      "\n",
      "AcvExploitationOnly: None\n",
      "\n",
      "OccupantModel: None\n",
      "\n",
      "WeatherModel: None\n",
      "\n",
      "To learn more about each object's parameters, use: describe(type_name=<type_name>)\n",
      "To learn more about a specific parameter of a given object, use: describe(type_name=<type_name>, parameter_name=<parameter_name>)\n",
      "To learn more about how you can create the COLIBRI's dataset, use: doc()\n"
     ]
    }
   ],
   "source": [
    "# Use 'describe' to get all the objects available in the COLIBRI Dataset and a short explanation of each object/archetype\n",
    "# The associated documentation is automatically generated from existing schemes in COLIBRI code.\n",
    "# You can therefore see the available objects, archetypes, and nodes.\n",
    "datamodel.describe()"
   ]
  },
  {
   "cell_type": "code",
   "execution_count": 5,
   "id": "d2319657-ffe6-49ed-a4f1-64340061d0be",
   "metadata": {},
   "outputs": [
    {
     "name": "stdout",
     "output_type": "stream",
     "text": [
      "{'lca_impact_properties': {'description': 'Life cycle analysis (LCA) impact properties (matrix) of the layer.Rows are representing EN15804 impacts and columns LCA phase impacts.', 'format': 'ndarray', 'min': None, 'max': None, 'unit': 'kgCO2', 'choices': None, 'default': None, 'required': None}, 'installation_year': {'description': 'Installation year of the layer.', 'format': 'int', 'min': 0, 'max': 100, 'unit': 'year', 'choices': None, 'default': 1, 'required': None}, 'service_life': {'description': 'Reference life of the layer.', 'format': 'int', 'min': 0, 'max': 100, 'unit': 'year', 'choices': None, 'default': 50, 'required': None}, 'constitutive_materials': {'description': \"Collection of materials composing the layer, described by a list of dictionnaries having 'share' (ratio) and 'constitutive_material_type' (enum).The sum of the share of each element of the collection as to be equal to 1.\", 'format': 'List[Dict[str, Any]]', 'min': None, 'max': None, 'unit': '-', 'choices': None, 'default': [{'share': 1, 'material_type': 'concrete'}], 'required': None}, 'end_of_life_properties': {'description': \"Possible use of the layer at the end of its life (recyclability, waste, etc.) by share of the layer material.\\nFor example:\\n[{'share':0.3, 'end_of_life_properties':'re-usable'},{'share':0.7, 'end_of_life_properties':'non-reusable'}].\\nThe sum of the share of each element of the collection as to be equal to 1.\", 'format': 'List[Dict[str, Any]]', 'min': None, 'max': None, 'unit': '-', 'choices': None, 'default': None, 'required': None}, 'thickness': {'description': 'Thickness of the layer.', 'format': 'float', 'min': 0.001, 'max': 2, 'unit': 'm', 'choices': None, 'default': 0.3, 'required': None}, 'thermal_conductivity': {'description': 'Thermal conductivity of the layer.', 'format': 'float', 'min': 0.01, 'max': 5, 'unit': 'W/(m.K)', 'choices': None, 'default': 1.75, 'required': None}, 'specific_heat': {'description': 'Specific heat capacity (known as C) of the layer.', 'format': 'float', 'min': 100, 'max': 8000, 'unit': 'J/kg', 'choices': None, 'default': 900, 'required': None}, 'density': {'description': 'Volumetric density of the layer.', 'format': 'float', 'min': 0.1, 'max': 50000, 'unit': 'kg/m³', 'choices': None, 'default': 2500, 'required': None}, 'material_type': {'description': 'Material characterization of the layer.', 'format': 'enum', 'min': None, 'max': None, 'unit': '-', 'choices': ['concrete', 'insulation', 'plaster', 'wood'], 'default': 'concrete', 'required': None}, 'emissivity': {'description': 'Emissivity of the layer, compared to the reference of a perfect black body.', 'format': 'float', 'min': 0, 'max': 1, 'unit': '-', 'choices': None, 'default': 0.92, 'required': None}, 'light_reflectance': {'description': \"Light reflectance (also known as LRV) of the layer when used as a boundary's surface.Measure of solar light (visible + non visible light) that is reflected from a surface when illuminated by a light source.\", 'format': 'float', 'min': 0.05, 'max': 1, 'unit': '-', 'choices': None, 'default': 0.8, 'required': None}, 'albedo': {'description': \"Albedo of the layer, which is the light reflectance (also known as LRV) of the layer when used as a boundary's surface. Measure of solar light (visible + non visible light) that is reflected from a surface when illuminated by a light source.\", 'format': 'float', 'min': 0, 'max': 1, 'unit': '-', 'choices': None, 'default': 0.25, 'required': None}}\n",
      "[2024-09-26 08:19:31 - /mnt/d/developments/versioned/colibri/colibri/src/colibri/datamodel/dataset.py (L529) - INFO] List of parameters for the Layer (Archetypes) object:\n",
      "- lca_impact_properties: Life cycle analysis (LCA) impact properties (matrix) of the layer.Rows are representing EN15804 impacts and columns LCA phase impacts. [kgCO2]\n",
      "- installation_year: Installation year of the layer. [year]\n",
      "- service_life: Reference life of the layer. [year]\n",
      "- constitutive_materials: Collection of materials composing the layer, described by a list of dictionnaries having 'share' (ratio) and 'constitutive_material_type' (enum).The sum of the share of each element of the collection as to be equal to 1. [-]\n",
      "- end_of_life_properties: Possible use of the layer at the end of its life (recyclability, waste, etc.) by share of the layer material.\n",
      "For example:\n",
      "[{'share':0.3, 'end_of_life_properties':'re-usable'},{'share':0.7, 'end_of_life_properties':'non-reusable'}].\n",
      "The sum of the share of each element of the collection as to be equal to 1. [-]\n",
      "- thickness: Thickness of the layer. [m]\n",
      "- thermal_conductivity: Thermal conductivity of the layer. [W/(m.K)]\n",
      "- specific_heat: Specific heat capacity (known as C) of the layer. [J/kg]\n",
      "- density: Volumetric density of the layer. [kg/m³]\n",
      "- material_type: Material characterization of the layer. [-]\n",
      "- emissivity: Emissivity of the layer, compared to the reference of a perfect black body. [-]\n",
      "- light_reflectance: Light reflectance (also known as LRV) of the layer when used as a boundary's surface.Measure of solar light (visible + non visible light) that is reflected from a surface when illuminated by a light source. [-]\n",
      "- albedo: Albedo of the layer, which is the light reflectance (also known as LRV) of the layer when used as a boundary's surface. Measure of solar light (visible + non visible light) that is reflected from a surface when illuminated by a light source. [-]\n",
      "\n"
     ]
    }
   ],
   "source": [
    "# To \"zoom\" on a specific object documentation\n",
    "datamodel.describe(type_name=\"Layer\")"
   ]
  },
  {
   "cell_type": "code",
   "execution_count": 6,
   "id": "a45c46e4-5fb0-4bbe-aed7-558c59047a43",
   "metadata": {},
   "outputs": [
    {
     "name": "stdout",
     "output_type": "stream",
     "text": [
      "[2024-09-25 15:52:45 - /mnt/d/developments/sandbox/colibri/src/colibri/datamodel/dataset.py (L529) - INFO] List of parameters for the Space (StructureObject) object:\n",
      "- id: Unique identifier (ID) of the space. [-]\n",
      "- label: Name/label of the space (room), not used as id. [-]\n",
      "- boundaries: Boundaries related to the space. [-]\n",
      "- q_needs: Needs of the space. [W]\n",
      "- occupant_per_square_meter: Number of occupants per square meter. [-]\n",
      "- inside_air_temperatures: Inside air temperature of the spaces. [°C]\n",
      "- setpoint_temperatures: Setpoint air temperature for each space. [°C]\n",
      "- gains: Occupation gains for each space. [W]\n",
      "- previous_inside_air_temperatures: Inside air temperature of the spaces at the previous time step. [°C]\n",
      "- thermal_capacity: Thermal capacity. [J/(m³.°C)]\n",
      "- height: Height of the space. [m]\n",
      "\n"
     ]
    }
   ],
   "source": [
    "datamodel.describe(type_name=\"Space\")"
   ]
  },
  {
   "cell_type": "code",
   "execution_count": 7,
   "id": "9460f99e-01d5-4bf8-9985-0ee66a8e2853",
   "metadata": {},
   "outputs": [
    {
     "name": "stdout",
     "output_type": "stream",
     "text": [
      "[2024-09-25 15:52:47 - /mnt/d/developments/sandbox/colibri/src/colibri/datamodel/dataset.py (L529) - INFO] thermal_conductivity:\n",
      "Thermal conductivity of the layer.\n",
      "- max: 5\n",
      "- default: 1.75\n",
      "- min: 0.01\n",
      "- format: float\n",
      "- unit: W/(m.K)\n",
      "\n"
     ]
    }
   ],
   "source": [
    "datamodel.describe(type_name=\"Layer\", parameter_name=\"thermal_conductivity\")"
   ]
  },
  {
   "cell_type": "code",
   "execution_count": 8,
   "id": "b9907927-9f04-452c-9e63-fe3a8f89975d",
   "metadata": {},
   "outputs": [
    {
     "data": {
      "text/plain": [
       "\u001b[0;31mSignature:\u001b[0m\n",
       "\u001b[0mdatamodel\u001b[0m\u001b[0;34m.\u001b[0m\u001b[0mdescribe\u001b[0m\u001b[0;34m(\u001b[0m\u001b[0;34m\u001b[0m\n",
       "\u001b[0;34m\u001b[0m    \u001b[0mcategory\u001b[0m\u001b[0;34m:\u001b[0m \u001b[0mOptional\u001b[0m\u001b[0;34m[\u001b[0m\u001b[0mstr\u001b[0m\u001b[0;34m]\u001b[0m \u001b[0;34m=\u001b[0m \u001b[0;32mNone\u001b[0m\u001b[0;34m,\u001b[0m\u001b[0;34m\u001b[0m\n",
       "\u001b[0;34m\u001b[0m    \u001b[0mtype_name\u001b[0m\u001b[0;34m:\u001b[0m \u001b[0mOptional\u001b[0m\u001b[0;34m[\u001b[0m\u001b[0mstr\u001b[0m\u001b[0;34m]\u001b[0m \u001b[0;34m=\u001b[0m \u001b[0;32mNone\u001b[0m\u001b[0;34m,\u001b[0m\u001b[0;34m\u001b[0m\n",
       "\u001b[0;34m\u001b[0m    \u001b[0mparameter_name\u001b[0m\u001b[0;34m:\u001b[0m \u001b[0mOptional\u001b[0m\u001b[0;34m[\u001b[0m\u001b[0mstr\u001b[0m\u001b[0;34m]\u001b[0m \u001b[0;34m=\u001b[0m \u001b[0;32mNone\u001b[0m\u001b[0;34m,\u001b[0m\u001b[0;34m\u001b[0m\n",
       "\u001b[0;34m\u001b[0m\u001b[0;34m)\u001b[0m \u001b[0;34m->\u001b[0m \u001b[0;32mNone\u001b[0m\u001b[0;34m\u001b[0m\u001b[0;34m\u001b[0m\u001b[0m\n",
       "\u001b[0;31mDocstring:\u001b[0m\n",
       "Provide/print help/documentation about dataset objects' parameters\n",
       "\n",
       "Parameters\n",
       "----------\n",
       "category : Optional[str]\n",
       "    Category of the object (in which scheme to search for).\n",
       "    If not set, use the first one. Possible values are:\n",
       "        - \"Archetypes\"\n",
       "        - \"BoundaryObject\"\n",
       "        - \"ElementObject\"\n",
       "        - \"StructureObject\"\n",
       "        - \"Modules\"\n",
       "type_name : Optional[str]\n",
       "    Name of the type of object (among a given category)\n",
       "parameter_name : Optional[str]\n",
       "    Name of the parameter of a given object (category and type_name)\n",
       "\n",
       "Returns\n",
       "-------\n",
       "None\n",
       "\n",
       "Raises\n",
       "------\n",
       "None\n",
       "\n",
       "Examples\n",
       "--------\n",
       ">>> None\n",
       "\u001b[0;31mFile:\u001b[0m      /mnt/d/developments/sandbox/colibri/src/colibri/datamodel/dataset.py\n",
       "\u001b[0;31mType:\u001b[0m      method"
      ]
     },
     "metadata": {},
     "output_type": "display_data"
    }
   ],
   "source": [
    "# If you want to know more about how to use describe and its possibilities\n",
    "datamodel.describe?"
   ]
  },
  {
   "cell_type": "code",
   "execution_count": 9,
   "id": "c71b4b4e-e21e-4e58-9c3c-1aacb6c2d815",
   "metadata": {},
   "outputs": [
    {
     "ename": "AttributeError",
     "evalue": "'DataSet' object has no attribute 'doc'",
     "output_type": "error",
     "traceback": [
      "\u001b[0;31m---------------------------------------------------------------------------\u001b[0m",
      "\u001b[0;31mAttributeError\u001b[0m                            Traceback (most recent call last)",
      "Cell \u001b[0;32mIn[9], line 2\u001b[0m\n\u001b[1;32m      1\u001b[0m \u001b[38;5;66;03m# If you want to know more about any existing DataSet available functions\u001b[39;00m\n\u001b[0;32m----> 2\u001b[0m \u001b[43mdatamodel\u001b[49m\u001b[38;5;241;43m.\u001b[39;49m\u001b[43mdoc\u001b[49m()\n",
      "\u001b[0;31mAttributeError\u001b[0m: 'DataSet' object has no attribute 'doc'"
     ]
    }
   ],
   "source": [
    "# If you want to know more about any existing DataSet available functions\n",
    "datamodel.doc()"
   ]
  },
  {
   "cell_type": "markdown",
   "id": "631ebabc-1917-4900-be9d-9ab1a4b6d6df",
   "metadata": {},
   "source": [
    "### Edit/Add elements to the dataset"
   ]
  },
  {
   "cell_type": "markdown",
   "id": "525bcb2e-532d-4e32-ab15-01bc4d52d09c",
   "metadata": {},
   "source": [
    "For example, you can create an archetype element: ``datamodel.add_archetype(\"<ARCHETYPE_NAME>W\")``\n",
    "\n",
    "*An archetype is a factorization of the properties of an object (component library). For instance: A window with its intrinsic characteristics is an archetype which can be called/referenced by window objects placed multiple times in the building. Integration properties are stored in objects. Intrinsic characteristics are stored in archetypes.*"
   ]
  },
  {
   "cell_type": "code",
   "execution_count": 11,
   "id": "8875adcf-3b48-49e0-963e-25282896cd2b",
   "metadata": {},
   "outputs": [
    {
     "name": "stdin",
     "output_type": "stream",
     "text": [
      "\n",
      "Set your own archetype_id (must be a unique string) or type 'no' to generate one randomly:  no\n",
      "\n",
      "Missing archetype label. Set your own archetype label (string).\n",
      "Labels are not used for computation, but could be displayed in graphical user interfaces.\n",
      "Type 'no' to use the id as a label:  no\n",
      "\n",
      "Give a value for thickness (type 'default' to use a default value for thickness or 'default to all' for all parameters):\n",
      "\n",
      "\n",
      " 0.3\n",
      "\n",
      "Give a value for thermal_conductivity (type 'default' to use a default value for thermal_conductivity or 'default to all' for all parameters):\n",
      "\n",
      "\n",
      " default to all\n"
     ]
    },
    {
     "data": {
      "text/plain": [
       "'Layer_d84e99cc-55c1-4c34-80ac-d23e1f79f6dc'"
      ]
     },
     "execution_count": 11,
     "metadata": {},
     "output_type": "execute_result"
    }
   ],
   "source": [
    "datamodel.add_archetype(\"Layer\")"
   ]
  },
  {
   "cell_type": "code",
   "execution_count": 12,
   "id": "0b5ce0ce-3798-4038-b5de-c5a83586b8d3",
   "metadata": {},
   "outputs": [
    {
     "data": {
      "text/plain": [
       "{'thickness': '0.3',\n",
       " 'thermal_conductivity': 1.75,\n",
       " 'specific_heat': 900,\n",
       " 'density': 2500,\n",
       " 'material_type': 'concrete'}"
      ]
     },
     "execution_count": 12,
     "metadata": {},
     "output_type": "execute_result"
    }
   ],
   "source": [
    "datamodel.archetype_collection[\"Layer_types\"][\"Layer_d84e99cc-55c1-4c34-80ac-d23e1f79f6dc\"]"
   ]
  },
  {
   "cell_type": "code",
   "execution_count": 13,
   "id": "34a6e03b-be8b-46df-9db6-f16191beb692",
   "metadata": {},
   "outputs": [
    {
     "data": {
      "text/plain": [
       "'isolant-1'"
      ]
     },
     "execution_count": 13,
     "metadata": {},
     "output_type": "execute_result"
    }
   ],
   "source": [
    "# You can also set parameter values directly in the function - just use the parameter name as in the documentation: here datamodel.describe(\"Layer\"). \n",
    "# Only missing parameters will be asked through the prompt.\n",
    "datamodel.add_archetype(\n",
    "    type_name=\"Layer\",\n",
    "    archetype_id=\"isolant-1\",\n",
    "    label=\"isolant 15cm pour mur verticaux\",\n",
    "    thickness=0.15,\n",
    "    thermal_conductivity=0.035,\n",
    "    specific_heat=1030,\n",
    "    density=25,\n",
    "    material_type=\"insulation\",\n",
    "    constitutive_material_type=\"rock wood\",\n",
    ")"
   ]
  },
  {
   "cell_type": "code",
   "execution_count": 14,
   "id": "dd647a1d-a3dc-4ada-b5ac-c98e77a68f92",
   "metadata": {},
   "outputs": [
    {
     "data": {
      "text/plain": [
       "{'thickness': 0.15,\n",
       " 'thermal_conductivity': 0.035,\n",
       " 'specific_heat': 1030,\n",
       " 'density': 25,\n",
       " 'material_type': 'insulation'}"
      ]
     },
     "execution_count": 14,
     "metadata": {},
     "output_type": "execute_result"
    }
   ],
   "source": [
    "datamodel.archetype_collection[\"Layer_types\"][\"isolant-1\"]"
   ]
  },
  {
   "cell_type": "markdown",
   "id": "08d2b5e6-ab5d-462a-9cc1-0b4872377cf2",
   "metadata": {},
   "source": [
    "## Creating a whole new COLIBRI Dataset"
   ]
  },
  {
   "cell_type": "code",
   "execution_count": 10,
   "id": "1dc26f70-ec11-48f1-a32e-e8ee217013d7",
   "metadata": {},
   "outputs": [],
   "source": [
    "from unittest.mock import patch\n",
    "from IPython.display import Image, display"
   ]
  },
  {
   "cell_type": "code",
   "execution_count": 11,
   "id": "d436e3e2-9ad8-4238-92d4-0bc336e25fdf",
   "metadata": {},
   "outputs": [
    {
     "data": {
      "image/png": "[encoded data removed]",
      "text/plain": [
       "<IPython.core.display.Image object>"
      ]
     },
     "metadata": {},
     "output_type": "display_data"
    }
   ],
   "source": [
    "display(Image(filename=f\"../images/house_1.png\"))"
   ]
  },
  {
   "cell_type": "code",
   "execution_count": 5,
   "id": "a927650a-ff27-4f38-930c-6d3f09257e49",
   "metadata": {},
   "outputs": [],
   "source": [
    "modules = [\n",
    "    \"AcvExploitationOnly\",\n",
    "    \"LimitedGenerator\",\n",
    "    \"OccupantModel\",\n",
    "    \"LayerWallLosses\",\n",
    "    \"ThermalSpaceSimplified\",\n",
    "    \"WeatherModel\",\n",
    "]"
   ]
  },
  {
   "cell_type": "code",
   "execution_count": 6,
   "id": "2f3b33e9-6afc-4055-bbac-1c4fd51519f9",
   "metadata": {},
   "outputs": [],
   "source": [
    "house_1 = DataSet(modules=modules)"
   ]
  },
  {
   "cell_type": "markdown",
   "id": "366cdfab-93db-42cf-8553-cb1dc00ed067",
   "metadata": {},
   "source": [
    "### Create Archetypes (Component Libraries)"
   ]
  },
  {
   "cell_type": "markdown",
   "id": "ae3a2208-212f-4dac-b369-4ad44d8ece83",
   "metadata": {},
   "source": [
    "#### Layers"
   ]
  },
  {
   "cell_type": "code",
   "execution_count": 14,
   "id": "6cc88655-d83a-4552-a8a9-8940e1b5e92e",
   "metadata": {},
   "outputs": [],
   "source": [
    "# Default values are used for all parameters that are not set directly\n",
    "with patch(\n",
    "    \"builtins.input\", return_value=\"default to all\"\n",
    "):  \n",
    "    # Default thermal properties are already set to concrete values\n",
    "    house_1.add_archetype(\n",
    "        \"Layer\", \n",
    "        archetype_id=\"beton_1\", \n",
    "        label=\"béton 20cm\", \n",
    "        thickness=0.2,\n",
    "    )  \n",
    "    house_1.add_archetype(\n",
    "        \"Layer\",\n",
    "        archetype_id=\"isolant_1\",\n",
    "        label=\"isolant 15cm pour mur verticaux\",\n",
    "        thickness=0.15,\n",
    "        thermal_conductivity=0.035,\n",
    "        specific_heat=1030,\n",
    "        density=25,\n",
    "        material_type=\"insulation\",\n",
    "        constitutive_material_type=\"rock wood\",\n",
    "    )\n",
    "    house_1.add_archetype(\n",
    "        \"Layer\",\n",
    "        archetype_id=\"isolant_toiture\",\n",
    "        label=\"isolant 10cm pour toiture\",\n",
    "        thickness=0.1,\n",
    "        thermal_conductivity=0.035,\n",
    "        specific_heat=1030,\n",
    "        density=25,\n",
    "        material_type=\"insulation\",\n",
    "        constitutive_material_type=\"rock wood\",\n",
    "    )\n",
    "    house_1.add_archetype(\n",
    "        \"Layer\",\n",
    "        archetype_id=\"isolant_plancher\",\n",
    "        label=\"isolant 5cm pour plancher\",\n",
    "        thickness=0.05,\n",
    "        thermal_conductivity=0.035,\n",
    "        specific_heat=1030,\n",
    "        density=25,\n",
    "        material_type=\"insulation\",\n",
    "        constitutive_material_type=\"rock wood\",\n",
    "    )\n",
    "    house_1.add_archetype(\n",
    "        \"Layer\",\n",
    "        archetype_id=\"vide_10\",\n",
    "        label=\"vide 10cm\",\n",
    "        thickness=0.1,\n",
    "        thermal_conductivity=0.025,\n",
    "        specific_heat=1000,\n",
    "        density=1.293,\n",
    "        material_type=\"insulation\",\n",
    "        constitutive_material_type=\"air\",\n",
    "    )\n",
    "    house_1.add_archetype(\n",
    "        \"Layer\",\n",
    "        archetype_id=\"ba_13\",\n",
    "        label=\"BA13\",\n",
    "        thickness=0.013,\n",
    "        thermal_conductivity=0.25,\n",
    "        specific_heat=1000,\n",
    "        density=850,\n",
    "        material_type=\"plaster\",\n",
    "        constitutive_material_type=\"plaster\",\n",
    "    )"
   ]
  },
  {
   "cell_type": "code",
   "execution_count": 15,
   "id": "71d63a3f-3c0f-47a5-8538-a950003c9870",
   "metadata": {},
   "outputs": [
    {
     "data": {
      "text/plain": [
       "dict_keys(['Layer_types'])"
      ]
     },
     "execution_count": 15,
     "metadata": {},
     "output_type": "execute_result"
    }
   ],
   "source": [
    "house_1.archetype_collection.keys()"
   ]
  },
  {
   "cell_type": "code",
   "execution_count": 16,
   "id": "772e3870-6201-405f-8731-fc2195994750",
   "metadata": {},
   "outputs": [
    {
     "data": {
      "text/plain": [
       "dict_keys(['beton_1', 'isolant_1', 'isolant_toiture', 'isolant_plancher', 'vide_10', 'ba_13'])"
      ]
     },
     "execution_count": 16,
     "metadata": {},
     "output_type": "execute_result"
    }
   ],
   "source": [
    "house_1.archetype_collection[\"Layer_types\"].keys()"
   ]
  },
  {
   "cell_type": "code",
   "execution_count": 17,
   "id": "9120e4b8-1ec9-4efa-bfce-2e5b84724baf",
   "metadata": {},
   "outputs": [
    {
     "data": {
      "text/plain": [
       "{'lca_impact_properties': None,\n",
       " 'installation_year': 1,\n",
       " 'service_life': 50,\n",
       " 'constitutive_materials': [{'share': 1, 'material_type': 'concrete'}],\n",
       " 'end_of_life_properties': None,\n",
       " 'thickness': 0.1,\n",
       " 'thermal_conductivity': 0.035,\n",
       " 'specific_heat': 1030,\n",
       " 'density': 25,\n",
       " 'material_type': 'insulation',\n",
       " 'emissivity': 0.92,\n",
       " 'light_reflectance': 0.8,\n",
       " 'albedo': 0.25}"
      ]
     },
     "execution_count": 17,
     "metadata": {},
     "output_type": "execute_result"
    }
   ],
   "source": [
    "house_1.archetype_collection[\"Layer_types\"][\"isolant_toiture\"]"
   ]
  },
  {
   "cell_type": "markdown",
   "id": "1a30cfdb-5c27-4421-8dbf-b4c464f07baa",
   "metadata": {},
   "source": [
    "## Load an existing COLIBRI Dataset"
   ]
  },
  {
   "cell_type": "code",
   "execution_count": null,
   "id": "64652ea0-2f23-45fc-b16c-e6f9177cdd90",
   "metadata": {},
   "outputs": [],
   "source": [
    "import json"
   ]
  },
  {
   "cell_type": "code",
   "execution_count": null,
   "id": "1b2a7ad6-dba5-403c-9ac3-62a3b5a28656",
   "metadata": {},
   "outputs": [],
   "source": [
    "# Load an existing dataset\n",
    "json_path = \n",
    "with open(\"house_1.json\", \"r\") as _file_descriptor:\n",
    "    data = json.load(_file_descriptor)\n",
    "existing_house_1 = DataSet(data)"
   ]
  },
  {
   "cell_type": "code",
   "execution_count": null,
   "id": "f106a747-00f2-4647-a892-a1e4d7ff3579",
   "metadata": {},
   "outputs": [],
   "source": []
  },
  {
   "cell_type": "code",
   "execution_count": null,
   "id": "b38bc5e5-2f4a-44f4-9d64-a6b146d2c6a2",
   "metadata": {},
   "outputs": [],
   "source": []
  },
  {
   "cell_type": "code",
   "execution_count": null,
   "id": "5dda0e18-1ed2-4b7d-b98e-c266ba73bf4a",
   "metadata": {},
   "outputs": [],
   "source": []
  },
  {
   "cell_type": "code",
   "execution_count": null,
   "id": "cd7b6c60-aecd-4cc2-bd4c-34a22c79c16c",
   "metadata": {},
   "outputs": [],
   "source": []
  },
  {
   "cell_type": "code",
   "execution_count": null,
   "id": "8db6f8ef-37ed-4b73-a656-440fd92059f1",
   "metadata": {},
   "outputs": [],
   "source": []
  },
  {
   "cell_type": "code",
   "execution_count": null,
   "id": "014a3f24-6f94-4a8a-b703-5559b060b819",
   "metadata": {},
   "outputs": [],
   "source": []
  },
  {
   "cell_type": "code",
   "execution_count": null,
   "id": "0156c091-5619-4ca2-bb2d-d4f95ca10811",
   "metadata": {},
   "outputs": [],
   "source": []
  },
  {
   "cell_type": "code",
   "execution_count": 7,
   "id": "aae58fa3-a252-4d66-b3d6-163d42d610e7",
   "metadata": {},
   "outputs": [
    {
     "name": "stdin",
     "output_type": "stream",
     "text": [
      "\n",
      "Missing archetype label. Set your own archetype label (string).\n",
      "Labels are not used for computation, but could be displayed in graphical user interfaces.\n",
      "Type 'no' to use the id as a label:  no\n",
      "\n",
      "Give a value for lca_impact_properties (type 'default' to use a default value for lca_impact_properties or 'default to all' for all parameters):\n",
      "\n",
      "\n",
      " None\n",
      "\n",
      "Give a value for installation_year (type 'default' to use a default value for installation_year or 'default to all' for all parameters):\n",
      "\n",
      "\n",
      " 1\n",
      "\n",
      "Give a value for service_life (type 'default' to use a default value for service_life or 'default to all' for all parameters):\n",
      "\n",
      "\n",
      " 55\n",
      "\n",
      "Give a value for constitutive_materials (type 'default' to use a default value for constitutive_materials or 'default to all' for all parameters):\n",
      "\n",
      "\n",
      " None\n",
      "\n",
      "Give a value for end_of_life_properties (type 'default' to use a default value for end_of_life_properties or 'default to all' for all parameters):\n",
      "\n",
      "\n",
      " None\n",
      "\n",
      "Give a value for thickness (type 'default' to use a default value for thickness or 'default to all' for all parameters):\n",
      "\n",
      "\n",
      " 0.1\n",
      "\n",
      "Give a value for thermal_conductivity (type 'default' to use a default value for thermal_conductivity or 'default to all' for all parameters):\n",
      "\n",
      "\n",
      " 0.5\n",
      "\n",
      "Give a value for specific_heat (type 'default' to use a default value for specific_heat or 'default to all' for all parameters):\n",
      "\n",
      "\n",
      " 200\n",
      "\n",
      "Give a value for density (type 'default' to use a default value for density or 'default to all' for all parameters):\n",
      "\n",
      "\n",
      " 1234\n",
      "\n",
      "Give a value for material_type (type 'default' to use a default value for material_type or 'default to all' for all parameters):\n",
      "\n",
      "\n",
      " concrete\n",
      "\n",
      "Give a value for emissivity (type 'default' to use a default value for emissivity or 'default to all' for all parameters):\n",
      "\n",
      "\n",
      " 0.65\n",
      "\n",
      "Give a value for light_reflectance (type 'default' to use a default value for light_reflectance or 'default to all' for all parameters):\n",
      "\n",
      "\n",
      " 0.2\n",
      "\n",
      "Give a value for albedo (type 'default' to use a default value for albedo or 'default to all' for all parameters):\n",
      "\n",
      "\n",
      " 0.3\n"
     ]
    },
    {
     "data": {
      "text/plain": [
       "'toto'"
      ]
     },
     "execution_count": 7,
     "metadata": {},
     "output_type": "execute_result"
    }
   ],
   "source": [
    "house_1.add_archetype(type_name=\"Layer\", archetype_id=\"toto\")"
   ]
  },
  {
   "cell_type": "code",
   "execution_count": 8,
   "id": "b6b2cadd-f096-495d-9e78-7c5306f654b6",
   "metadata": {},
   "outputs": [
    {
     "data": {
      "text/plain": [
       "{'Layer_types': {'toto': {'lca_impact_properties': 'None',\n",
       "   'installation_year': '1',\n",
       "   'service_life': '55',\n",
       "   'constitutive_materials': 'None',\n",
       "   'end_of_life_properties': 'None',\n",
       "   'thickness': '0.1',\n",
       "   'thermal_conductivity': '0.5',\n",
       "   'specific_heat': '200',\n",
       "   'density': '1234',\n",
       "   'material_type': 'concrete',\n",
       "   'emissivity': '0.65',\n",
       "   'light_reflectance': '0.2',\n",
       "   'albedo': '0.3'}}}"
      ]
     },
     "execution_count": 8,
     "metadata": {},
     "output_type": "execute_result"
    }
   ],
   "source": [
    "house_1.archetype_collection"
   ]
  },
  {
   "cell_type": "code",
   "execution_count": null,
   "id": "09d8598e-6293-4348-a455-aac0842a5d80",
   "metadata": {},
   "outputs": [],
   "source": []
  }
 ],
 "metadata": {
  "kernelspec": {
   "display_name": "colibri_sandbox_env",
   "language": "python",
   "name": "colibri_sandbox_env"
  },
  "language_info": {
   "codemirror_mode": {
    "name": "ipython",
    "version": 3
   },
   "file_extension": ".py",
   "mimetype": "text/x-python",
   "name": "python",
   "nbconvert_exporter": "python",
   "pygments_lexer": "ipython3",
   "version": "3.11.7"
  }
 },
 "nbformat": 4,
 "nbformat_minor": 5
}
