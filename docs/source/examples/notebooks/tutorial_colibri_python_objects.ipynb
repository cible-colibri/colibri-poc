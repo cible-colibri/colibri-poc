{
 "cells": [
  {
   "cell_type": "markdown",
   "id": "f996beca-347d-48f2-8f01-b3386aae2140",
   "metadata": {},
   "source": [
    "# Tutorial on using Colibri with Python objects"
   ]
  },
  {
   "cell_type": "code",
   "execution_count": 4,
   "id": "e1f5c7de-a111-442d-99d4-fa61a21f9fac",
   "metadata": {},
   "outputs": [],
   "source": [
    "from colibri.modules import AcvExploitationOnly"
   ]
  },
  {
   "cell_type": "markdown",
   "id": "5ed2a247-7247-49a3-9b62-390e58322d5c",
   "metadata": {},
   "source": [
    "## Using a module"
   ]
  },
  {
   "cell_type": "code",
   "execution_count": 6,
   "id": "94561f60-c634-4b4d-82ef-9d721834e984",
   "metadata": {},
   "outputs": [
    {
     "data": {
      "text/plain": [
       "\u001b[0;31mInit signature:\u001b[0m\n",
       "\u001b[0mAcvExploitationOnly\u001b[0m\u001b[0;34m(\u001b[0m\u001b[0;34m\u001b[0m\n",
       "\u001b[0;34m\u001b[0m    \u001b[0mname\u001b[0m\u001b[0;34m:\u001b[0m \u001b[0;34m'str'\u001b[0m\u001b[0;34m,\u001b[0m\u001b[0;34m\u001b[0m\n",
       "\u001b[0;34m\u001b[0m    \u001b[0mq_consumed\u001b[0m\u001b[0;34m:\u001b[0m \u001b[0;34m'Optional[Dict[str, float]]'\u001b[0m \u001b[0;34m=\u001b[0m \u001b[0;32mNone\u001b[0m\u001b[0;34m,\u001b[0m\u001b[0;34m\u001b[0m\n",
       "\u001b[0;34m\u001b[0m    \u001b[0mco2_impact\u001b[0m\u001b[0;34m:\u001b[0m \u001b[0;34m'float'\u001b[0m \u001b[0;34m=\u001b[0m \u001b[0;36m0.0\u001b[0m\u001b[0;34m,\u001b[0m\u001b[0;34m\u001b[0m\n",
       "\u001b[0;34m\u001b[0m    \u001b[0mcarbon_to_electricity_ratio\u001b[0m\u001b[0;34m:\u001b[0m \u001b[0;34m'float'\u001b[0m \u001b[0;34m=\u001b[0m \u001b[0;36m70\u001b[0m\u001b[0;34m,\u001b[0m\u001b[0;34m\u001b[0m\n",
       "\u001b[0;34m\u001b[0m    \u001b[0mproject_data\u001b[0m\u001b[0;34m:\u001b[0m \u001b[0;34m'Optional[ProjectData]'\u001b[0m \u001b[0;34m=\u001b[0m \u001b[0;32mNone\u001b[0m\u001b[0;34m,\u001b[0m\u001b[0;34m\u001b[0m\n",
       "\u001b[0;34m\u001b[0m\u001b[0;34m)\u001b[0m \u001b[0;34m->\u001b[0m \u001b[0;34m'None'\u001b[0m\u001b[0;34m\u001b[0m\u001b[0;34m\u001b[0m\u001b[0m\n",
       "\u001b[0;31mDocstring:\u001b[0m      Class representing a ACV exploitation.\n",
       "\u001b[0;31mInit docstring:\u001b[0m Initialize a new AcvExploitationOnly instance.\n",
       "\u001b[0;31mFile:\u001b[0m           /mnt/d/developments/versioned/colibri/colibri/src/colibri/modules/acvs/acv_exploitation.py\n",
       "\u001b[0;31mType:\u001b[0m           ABCMeta\n",
       "\u001b[0;31mSubclasses:\u001b[0m     "
      ]
     },
     "metadata": {},
     "output_type": "display_data"
    }
   ],
   "source": [
    "AcvExploitationOnly?"
   ]
  },
  {
   "cell_type": "code",
   "execution_count": 9,
   "id": "122a9b01-7252-4a39-a32f-9de3c6806c7d",
   "metadata": {},
   "outputs": [
    {
     "data": {
      "text/plain": [
       "AcvExploitationOnly(name='acv-1', project=None, q_consumed={'space-1': 230, 'space-2': 240}, co2_impact=25, carbon_to_electricity_ratio=60, project_data=None)"
      ]
     },
     "execution_count": 9,
     "metadata": {},
     "output_type": "execute_result"
    }
   ],
   "source": [
    "acv_module = AcvExploitationOnly(\n",
    "    name=\"acv-1\",\n",
    "    q_consumed={\"space-1\": 230, \"space-2\": 240},\n",
    "    co2_impact=25,\n",
    "    carbon_to_electricity_ratio=60,\n",
    "    project_data=None,\n",
    ")\n",
    "acv_module"
   ]
  },
  {
   "cell_type": "code",
   "execution_count": 10,
   "id": "812bed49-0d51-4052-a66a-424e4e766c5a",
   "metadata": {},
   "outputs": [],
   "source": [
    "acv_module.initialize()"
   ]
  },
  {
   "cell_type": "code",
   "execution_count": 12,
   "id": "63e2e4e2-667f-485d-9f81-df77f5e1b92e",
   "metadata": {},
   "outputs": [],
   "source": [
    "acv_module.run(time_step=1, number_of_iterations=1)"
   ]
  },
  {
   "cell_type": "code",
   "execution_count": 13,
   "id": "caaa3b05-162a-4540-81c4-df01c1548370",
   "metadata": {},
   "outputs": [],
   "source": [
    "acv_module.end_simulation()"
   ]
  },
  {
   "cell_type": "code",
   "execution_count": 15,
   "id": "5acd382d-401c-4694-91ab-e18a456fcd51",
   "metadata": {},
   "outputs": [
    {
     "data": {
      "text/plain": [
       "['co2_impact']"
      ]
     },
     "execution_count": 15,
     "metadata": {},
     "output_type": "execute_result"
    }
   ],
   "source": [
    "[output.name for output in acv_module.outputs]"
   ]
  },
  {
   "cell_type": "code",
   "execution_count": 16,
   "id": "97ad6b36-0987-4dda-a119-e01c5fec033f",
   "metadata": {},
   "outputs": [
    {
     "data": {
      "text/plain": [
       "28200"
      ]
     },
     "execution_count": 16,
     "metadata": {},
     "output_type": "execute_result"
    }
   ],
   "source": [
    "acv_module.co2_impact"
   ]
  },
  {
   "cell_type": "code",
   "execution_count": null,
   "id": "f847696a-0b86-4ca6-8d18-65c0f35bb313",
   "metadata": {},
   "outputs": [],
   "source": []
  }
 ],
 "metadata": {
  "kernelspec": {
   "display_name": "colibri_sandbox_env",
   "language": "python",
   "name": "colibri_sandbox_env"
  },
  "language_info": {
   "codemirror_mode": {
    "name": "ipython",
    "version": 3
   },
   "file_extension": ".py",
   "mimetype": "text/x-python",
   "name": "python",
   "nbconvert_exporter": "python",
   "pygments_lexer": "ipython3",
   "version": "3.11.7"
  }
 },
 "nbformat": 4,
 "nbformat_minor": 5
}
